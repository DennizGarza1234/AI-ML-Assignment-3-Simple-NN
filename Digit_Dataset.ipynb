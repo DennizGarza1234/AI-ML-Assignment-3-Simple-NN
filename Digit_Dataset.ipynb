{
 "cells": [
  {
   "cell_type": "markdown",
   "id": "2aa135c7",
   "metadata": {},
   "source": [
    "# MNIST Digit Classification using Feedforward Neural Network (FNN)\n",
    "**Author:** Denniz Garza  \n",
    "**Framework:** TensorFlow/Keras  \n",
    "\n",
    "This notebook demonstrates how to build, train, and evaluate a simple feedforward neural network on the MNIST handwritten digit dataset."
   ]
  },
  {
   "cell_type": "markdown",
   "id": "973b8519",
   "metadata": {},
   "source": [
    "## Data Loading\n",
    "In this section, we load the MNIST dataset, which contains 70,000 images of handwritten digits (28x28 pixels).\n",
    "We split the data into training and test sets."
   ]
  },
  {
   "cell_type": "code",
   "execution_count": null,
   "id": "0e3fc150",
   "metadata": {
    "vscode": {
     "languageId": "plaintext"
    }
   },
   "outputs": [],
   "source": [
    "import tensorflow as tf\n",
    "from tensorflow.keras.datasets import mnist\n",
    "\n",
    "# Load MNIST dataset\n",
    "(x_train, y_train), (x_test, y_test) = mnist.load_data()\n",
    "\n",
    "print(f\"Training samples: {x_train.shape[0]}, Test samples: {x_test.shape[0]}\")"
   ]
  },
  {
   "cell_type": "markdown",
   "id": "8f4522f5",
   "metadata": {},
   "source": [
    "## Data Preprocessing\n",
    "We normalize the pixel values to the range [0, 1] and flatten each 28x28 image into a 784-dimensional vector.  \n",
    "We also one-hot encode the labels for multi-class classification."
   ]
  },
  {
   "cell_type": "code",
   "execution_count": null,
   "id": "9f29ff70",
   "metadata": {
    "vscode": {
     "languageId": "plaintext"
    }
   },
   "outputs": [],
   "source": [
    "from tensorflow.keras.utils import to_categorical\n",
    "import numpy as np\n",
    "\n",
    "# Normalize and flatten images\n",
    "x_train = x_train.reshape(-1, 28*28).astype('float32') / 255.0\n",
    "x_test = x_test.reshape(-1, 28*28).astype('float32') / 255.0\n",
    "\n",
    "# One-hot encode labels\n",
    "y_train = to_categorical(y_train, 10)\n",
    "y_test = to_categorical(y_test, 10)\n",
    "\n",
    "print(f\"x_train shape: {x_train.shape}, y_train shape: {y_train.shape}\")"
   ]
  },
  {
   "cell_type": "markdown",
   "id": "78d11694",
   "metadata": {},
   "source": [
    "## Model Definition\n",
    "We define a feedforward neural network (FNN) with:\n",
    "- Input layer: 784 neurons (flattened image)\n",
    "- Hidden layers: 128 and 64 neurons with ReLU activation\n",
    "- Output layer: 10 neurons with Softmax activation"
   ]
  },
  {
   "cell_type": "code",
   "execution_count": null,
   "id": "9dec5213",
   "metadata": {
    "vscode": {
     "languageId": "plaintext"
    }
   },
   "outputs": [],
   "source": [
    "from tensorflow.keras.models import Sequential\n",
    "from tensorflow.keras.layers import Dense, Input\n",
    "\n",
    "# Build the model\n",
    "model = Sequential([\n",
    "    Input(shape=(784,)),\n",
    "    Dense(128, activation='relu'),\n",
    "    Dense(64, activation='relu'),\n",
    "    Dense(10, activation='softmax')\n",
    "])\n",
    "\n",
    "# Compile the model\n",
    "model.compile(optimizer='adam',\n",
    "              loss='categorical_crossentropy',\n",
    "              metrics=['accuracy'])\n",
    "\n",
    "model.summary()"
   ]
  },
  {
   "cell_type": "markdown",
   "id": "50ee3d42",
   "metadata": {},
   "source": [
    "## Model Training\n",
    "We train the model for 10 epochs with a batch size of 32 and a 10% validation split."
   ]
  },
  {
   "cell_type": "code",
   "execution_count": null,
   "id": "63c83b8e",
   "metadata": {
    "vscode": {
     "languageId": "plaintext"
    }
   },
   "outputs": [],
   "source": [
    "history = model.fit(x_train, y_train,\n",
    "                    epochs=10,\n",
    "                    batch_size=32,\n",
    "                    validation_split=0.1)"
   ]
  },
  {
   "cell_type": "markdown",
   "id": "6ea3f64e",
   "metadata": {},
   "source": [
    "## Evaluation & Predictions\n",
    "We evaluate the trained model on the test set and make predictions on a subset of images."
   ]
  },
  {
   "cell_type": "code",
   "execution_count": null,
   "id": "547a5c3f",
   "metadata": {
    "vscode": {
     "languageId": "plaintext"
    }
   },
   "outputs": [],
   "source": [
    "# Evaluate on test set\n",
    "test_loss, test_acc = model.evaluate(x_test, y_test)\n",
    "print(f\"Test Accuracy: {test_acc:.4f}\")\n",
    "\n",
    "# Predict first 10 test images\n",
    "predictions = model.predict(x_test[:10])\n",
    "predicted_labels = np.argmax(predictions, axis=1)\n",
    "true_labels = np.argmax(y_test[:10], axis=1)\n",
    "\n",
    "print(\"Predicted labels:\", predicted_labels)\n",
    "print(\"True labels:\", true_labels)"
   ]
  },
  {
   "cell_type": "markdown",
   "id": "723d80c8",
   "metadata": {},
   "source": [
    "## Visualization\n",
    "We visualize some sample test images along with their predicted and true labels."
   ]
  },
  {
   "cell_type": "code",
   "execution_count": null,
   "id": "e7414c02",
   "metadata": {
    "vscode": {
     "languageId": "plaintext"
    }
   },
   "outputs": [],
   "source": [
    "import matplotlib.pyplot as plt\n",
    "\n",
    "plt.figure(figsize=(12, 4))\n",
    "for i in range(10):\n",
    "    plt.subplot(2, 5, i+1)\n",
    "    plt.imshow(x_test[i].reshape(28,28), cmap='gray')\n",
    "    plt.title(f\"Pred: {predicted_labels[i]}\\nTrue: {true_labels[i]}\")\n",
    "    plt.axis('off')\n",
    "plt.tight_layout()\n",
    "plt.show()"
   ]
  },
  {
   "cell_type": "markdown",
   "id": "2c91b628",
   "metadata": {},
   "source": [
    "## Single Image Prediction\n",
    "We predict a single random test image to demonstrate the model’s performance."
   ]
  },
  {
   "cell_type": "code",
   "execution_count": null,
   "id": "bc34290e",
   "metadata": {
    "vscode": {
     "languageId": "plaintext"
    }
   },
   "outputs": [],
   "source": [
    "sample = x_test[0].reshape(1, 784)\n",
    "prediction = np.argmax(model.predict(sample))\n",
    "print(\"Predicted digit for first test sample:\", prediction)"
   ]
  },
  {
   "cell_type": "markdown",
   "id": "30fac785",
   "metadata": {},
   "source": [
    "## Save Trained Model\n",
    "We save the trained model to a file for future use."
   ]
  },
  {
   "cell_type": "code",
   "execution_count": null,
   "id": "e062be7e",
   "metadata": {
    "vscode": {
     "languageId": "plaintext"
    }
   },
   "outputs": [],
   "source": [
    "model.save('mnist_fnn_model.h5')"
   ]
  }
 ],
 "metadata": {
  "language_info": {
   "name": "python"
  }
 },
 "nbformat": 4,
 "nbformat_minor": 5
}
